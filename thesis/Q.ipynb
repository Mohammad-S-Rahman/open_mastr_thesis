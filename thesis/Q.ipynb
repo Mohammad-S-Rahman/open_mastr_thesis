{
 "cells": [
  {
   "cell_type": "code",
   "execution_count": 1,
   "id": "383fedba",
   "metadata": {},
   "outputs": [
    {
     "name": "stdout",
     "output_type": "stream",
     "text": [
      "235.8317507141451\n"
     ]
    }
   ],
   "source": [
    "import psycopg2\n",
    "from pandas import DataFrame\n",
    "import json\n",
    "import seaborn as sns\n",
    "import matplotlib.pyplot as plt\n",
    "\n",
    "# Connect database with the set credentials in PG\n",
    "db_connection = psycopg2.connect(\n",
    "    user=\"tester\",\n",
    "    password=\"1234\",\n",
    "    host=\"localhost\",\n",
    "    port=\"5432\",\n",
    "    database=\"ThesisTry1\"\n",
    ")\n",
    "\n",
    "#updated query\n",
    "\n",
    "query =\"\"\"\n",
    "SELECT SUM(SE.\"Bruttoleistung\")/SUM(SE.\"AnzahlModule\") AS Q\n",
    "FROM solar_extended AS SE;\n",
    "\"\"\"\n",
    "\n",
    "# Create a cursor and execute the query\n",
    "cursor = db_connection.cursor()\n",
    "cursor.execute(query)\n",
    "\n",
    "# Fetch all the rows from the result\n",
    "results = cursor.fetchall()\n",
    "\n",
    "print(results[0][0]*1000) #To get Q in Watt. Not in KW. But this is with the outliers. That's why the value is outside of the normal range\n"
   ]
  },
  {
   "cell_type": "code",
   "execution_count": null,
   "id": "64897726",
   "metadata": {},
   "outputs": [],
   "source": []
  }
 ],
 "metadata": {
  "kernelspec": {
   "display_name": "Python 3 (ipykernel)",
   "language": "python",
   "name": "python3"
  },
  "language_info": {
   "codemirror_mode": {
    "name": "ipython",
    "version": 3
   },
   "file_extension": ".py",
   "mimetype": "text/x-python",
   "name": "python",
   "nbconvert_exporter": "python",
   "pygments_lexer": "ipython3",
   "version": "3.11.5"
  }
 },
 "nbformat": 4,
 "nbformat_minor": 5
}
