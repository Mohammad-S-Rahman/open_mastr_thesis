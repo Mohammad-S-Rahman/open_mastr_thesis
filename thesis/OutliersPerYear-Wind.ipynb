{
 "cells": [
  {
   "cell_type": "code",
   "execution_count": 1,
   "id": "6ce967f1",
   "metadata": {},
   "outputs": [],
   "source": [
    "import psycopg2\n",
    "from pandas import DataFrame\n",
    "import json\n",
    "import seaborn as sns\n",
    "import matplotlib.pyplot as plt\n",
    "import numpy as np\n",
    "\n",
    "# Connect database with the set credentials in PG\n",
    "db_connection = psycopg2.connect(\n",
    "    user=\"tester\",\n",
    "    password=\"1234\",\n",
    "    host=\"localhost\",\n",
    "    port=\"5432\",\n",
    "    database=\"BulkTest\"\n",
    ")\n",
    "\n",
    "#updated query\n",
    "query0 = \"\"\"\n",
    "SELECT\n",
    "    SE.\"Bruttoleistung\"\n",
    "FROM\n",
    "    wind_extended as SE\n",
    "WHERE\n",
    "    SUBSTRING(CAST(SE.\"Inbetriebnahmedatum\" AS TEXT) FROM 1 FOR 4) = '2019';\n",
    "\"\"\"\n",
    "query1 = \"\"\"\n",
    "SELECT\n",
    "    SE.\"Bruttoleistung\"\n",
    "FROM\n",
    "    wind_extended as SE\n",
    "WHERE\n",
    "    SUBSTRING(CAST(SE.\"Inbetriebnahmedatum\" AS TEXT) FROM 1 FOR 4) = '2020';\n",
    "\"\"\"\n",
    "query2 = \"\"\"\n",
    "SELECT\n",
    "    SE.\"Bruttoleistung\"\n",
    "FROM\n",
    "    wind_extended as SE\n",
    "WHERE\n",
    "    SUBSTRING(CAST(SE.\"Inbetriebnahmedatum\" AS TEXT) FROM 1 FOR 4) = '2021';\n",
    "\"\"\"\n",
    "query3 = \"\"\"\n",
    "SELECT\n",
    "    SE.\"Bruttoleistung\"\n",
    "FROM \n",
    "    wind_extended as SE\n",
    "WHERE\n",
    "    SUBSTRING(CAST(SE.\"Inbetriebnahmedatum\" AS TEXT) FROM 1 FOR 4) = '2022';\n",
    "\"\"\"\n",
    "query4 = \"\"\"\n",
    "SELECT\n",
    "    SE.\"Bruttoleistung\"\n",
    "FROM\n",
    "    wind_extended as SE\n",
    "WHERE\n",
    "    SUBSTRING(CAST(SE.\"Inbetriebnahmedatum\" AS TEXT) FROM 1 FOR 4) = '2023';\n",
    "\"\"\"\n",
    "query5 = \"\"\"\n",
    "SELECT\n",
    "    SE.\"Bruttoleistung\"\n",
    "FROM\n",
    "    wind_extended as SE\n",
    "WHERE\n",
    "    SUBSTRING(CAST(SE.\"Inbetriebnahmedatum\" AS TEXT) FROM 1 FOR 4) = '2024';\n",
    "\"\"\"\n",
    "\n",
    "\n",
    "# Create a cursor and execute the query\n",
    "cursor0 = db_connection.cursor()\n",
    "cursor0.execute(query0)\n",
    "\n",
    "cursor1 = db_connection.cursor()\n",
    "cursor1.execute(query1)\n",
    "\n",
    "cursor2 = db_connection.cursor()\n",
    "cursor2.execute(query2)\n",
    "\n",
    "cursor3 = db_connection.cursor()\n",
    "cursor3.execute(query3)\n",
    "\n",
    "cursor4 = db_connection.cursor()\n",
    "cursor4.execute(query4)\n",
    "\n",
    "cursor5 = db_connection.cursor()\n",
    "cursor5.execute(query5)\n",
    "\n",
    "capacity0 = cursor0.fetchall()\n",
    "capacity1 = cursor1.fetchall()\n",
    "capacity2 = cursor2.fetchall()\n",
    "capacity3 = cursor3.fetchall()\n",
    "capacity4 = cursor4.fetchall()\n",
    "capacity5 = cursor5.fetchall()\n",
    "\n",
    "\n"
   ]
  },
  {
   "cell_type": "code",
   "execution_count": 2,
   "id": "7c89f597",
   "metadata": {
    "scrolled": true
   },
   "outputs": [
    {
     "name": "stdout",
     "output_type": "stream",
     "text": [
      "BruttoLeistung in 2019:  2094811.6\n",
      "Average Q of total data in 2019:  4382.451046025105\n",
      "Total outliers_Brutto sum: 271.6\n",
      "Outlier Brutto mean: 7.340540540540541\n",
      "Error Rate in 2019: 0.012965366431997992 %\n"
     ]
    }
   ],
   "source": [
    "#2019 with outliers\n",
    "df_2019 = DataFrame(capacity0)\n",
    "\n",
    "df_2019.columns = ['Brutto']\n",
    "\n",
    "# Drop rows with missing longitude or latitude values\n",
    "df_2019 = df_2019.dropna()\n",
    "#df_2019['q'] = (df_2019['Brutto'] / df_2019['AnzahlModule']) * 1000\n",
    "\n",
    "brutto_sum2019 = df_2019['Brutto'].sum()\n",
    "print(\"BruttoLeistung in 2019: \", brutto_sum2019)\n",
    "print(\"Average Q of total data in 2019: \", df_2019['Brutto'].mean())\n",
    "\n",
    "outliers_df2019 = df_2019[(df_2019['Brutto'] > 20000) | (df_2019['Brutto'] < 100)].copy()\n",
    "\n",
    "# Calculate the total sum for 'Bruttoleistung' and 'AnzahlModule'\n",
    "total_brutto_sum_outliers2019 = outliers_df2019['Brutto'].sum()\n",
    "#total_anzahlmodule_sum_outliers2019 = outliers_df2019['AnzahlModule'].sum()\n",
    "\n",
    "print(f'Total outliers_Brutto sum: {total_brutto_sum_outliers2019}')\n",
    "#print(f'Total AnzahlModule sum: {total_anzahlmodule_sum_outliers2019}')\n",
    "\n",
    "outliers_q2019 = outliers_df2019['Brutto'].mean()\n",
    "\n",
    "print(f'Outlier Brutto mean: {outliers_q2019}')\n",
    "\n",
    "error_rate2019 = total_brutto_sum_outliers2019/brutto_sum2019\n",
    "print(f'Error Rate in 2019: {error_rate2019*100}', \"%\")\n"
   ]
  },
  {
   "cell_type": "code",
   "execution_count": 3,
   "id": "843b4269",
   "metadata": {},
   "outputs": [
    {
     "name": "stdout",
     "output_type": "stream",
     "text": [
      "Total withoutoutliers_Brutto sum: 2094540.0\n",
      "Filtered Q mean: 4749.523809523809\n",
      "Correct Data Entry in 2019: 99.987034633568 %\n"
     ]
    }
   ],
   "source": [
    "#2019 without outliers\n",
    "\n",
    "without_df2019 = df_2019[(df_2019['Brutto'] < 20000) & (df_2019['Brutto'] > 100)].copy()\n",
    "#filtered_df = filtered_df[(filtered_df['Brutto'] < 2000) & (filtered_df['AnzahlModule'] < 500)] \n",
    "\n",
    "# Calculate the total sum for 'Bruttoleistung' and 'AnzahlModule'\n",
    "total_brutto_sum_withoutoutliers2019 = without_df2019['Brutto'].sum()\n",
    "#total_anzahlmodule_sum_withoutoutliers2019 = without_df2019['AnzahlModule'].sum()\n",
    "\n",
    "print(f'Total withoutoutliers_Brutto sum: {total_brutto_sum_withoutoutliers2019}')\n",
    "#print(f'Total withoutoutliers AnzahlModule sum: {total_anzahlmodule_sum_withoutoutliers2019}')\n",
    "\n",
    "outliers_q2019 = without_df2019['Brutto'].mean()\n",
    "\n",
    "print(f'Filtered Q mean: {outliers_q2019}')\n",
    "success_rate2019 = total_brutto_sum_withoutoutliers2019/brutto_sum2019\n",
    "print(f'Correct Data Entry in 2019: {success_rate2019*100}', \"%\")"
   ]
  },
  {
   "cell_type": "code",
   "execution_count": 16,
   "id": "2d36887e",
   "metadata": {},
   "outputs": [
    {
     "name": "stdout",
     "output_type": "stream",
     "text": [
      "BruttoLeistung in 2020:  1649481.51\n",
      "Average Q of total data in 2020:  3298.96302\n",
      "Total outliers_Brutto sum: 433.51\n",
      "Outlier Brutto mean: 9.223617021276596\n",
      "Error Rate in 2020: 0.026281591965223058 %\n"
     ]
    }
   ],
   "source": [
    "#2020 with outliers\n",
    "df_2020 = DataFrame(capacity1)\n",
    "\n",
    "df_2020.columns = ['Brutto']\n",
    "\n",
    "# Drop rows with missing longitude or latitude values\n",
    "df_2020 = df_2020.dropna()\n",
    "#df_2020['q'] = (df_2020['Brutto'] / df_2020['AnzahlModule']) * 1000\n",
    "\n",
    "brutto_sum2020 = df_2020['Brutto'].sum()\n",
    "print(\"BruttoLeistung in 2020: \", brutto_sum2020)\n",
    "print(\"Average Q of total data in 2020: \", df_2020['Brutto'].mean())\n",
    "\n",
    "outliers_df2020 = df_2020[(df_2020['Brutto'] > 20000) | (df_2020['Brutto'] < 100)].copy()\n",
    "\n",
    "# Calculate the total sum for 'Bruttoleistung' and 'AnzahlModule'\n",
    "total_brutto_sum_outliers2020 = outliers_df2020['Brutto'].sum()\n",
    "#total_anzahlmodule_sum_outliers2020 = outliers_df2020['AnzahlModule'].sum()\n",
    "\n",
    "print(f'Total outliers_Brutto sum: {total_brutto_sum_outliers2020}')\n",
    "#print(f'Total AnzahlModule sum: {total_anzahlmodule_sum_outliers2020}')\n",
    "\n",
    "outliers_q2020 = outliers_df2020['Brutto'].mean()\n",
    "\n",
    "print(f'Outlier Brutto mean: {outliers_q2020}')\n",
    "\n",
    "error_rate2020 = total_brutto_sum_outliers2020/brutto_sum2020\n",
    "print(f'Error Rate in 2020: {error_rate2020*100}', \"%\")"
   ]
  },
  {
   "cell_type": "code",
   "execution_count": 18,
   "id": "4831f221",
   "metadata": {},
   "outputs": [
    {
     "name": "stdout",
     "output_type": "stream",
     "text": [
      "Total withoutoutliers_Brutto sum: 1649048.0\n",
      "Filtered Q mean: 3640.282560706402\n",
      "Correct Data Entry in 2020: 99.97371840803477 %\n"
     ]
    }
   ],
   "source": [
    "#2020 without outliers\n",
    "\n",
    "without_df2020 = df_2020[(df_2020['Brutto'] < 20000) & (df_2020['Brutto'] > 100)].copy()\n",
    "#filtered_df = filtered_df[(filtered_df['Brutto'] < 2000) & (filtered_df['AnzahlModule'] < 500)] \n",
    "\n",
    "# Calculate the total sum for 'Bruttoleistung' and 'AnzahlModule'\n",
    "total_brutto_sum_withoutoutliers2020 = without_df2020['Brutto'].sum()\n",
    "#total_anzahlmodule_sum_withoutoutliers2020 = without_df2020['AnzahlModule'].sum()\n",
    "\n",
    "print(f'Total withoutoutliers_Brutto sum: {total_brutto_sum_withoutoutliers2020}')\n",
    "#print(f'Total withoutoutliers AnzahlModule sum: {total_anzahlmodule_sum_withoutoutliers2020}')\n",
    "\n",
    "outliers_q2020 = without_df2020['Brutto'].mean()\n",
    "\n",
    "print(f'Filtered Q mean: {outliers_q2020}')\n",
    "success_rate2020 = total_brutto_sum_withoutoutliers2020/brutto_sum2020\n",
    "print(f'Correct Data Entry in 2020: {success_rate2020*100}', \"%\")"
   ]
  },
  {
   "cell_type": "code",
   "execution_count": 26,
   "id": "cf3c98eb",
   "metadata": {},
   "outputs": [
    {
     "name": "stdout",
     "output_type": "stream",
     "text": [
      "BruttoLeistung in 2021:  1927509.42\n",
      "Average Q of total data in 2021:  3623.1380075187967\n",
      "Total outliers_Brutto sum: 433.42\n",
      "Outlier Brutto mean: 9.029583333333333\n",
      "Error Rate in 2021: 0.02248601202685692 %\n"
     ]
    }
   ],
   "source": [
    "#2021 with outliers\n",
    "df_2021 = DataFrame(capacity2)\n",
    "\n",
    "df_2021.columns = ['Brutto']\n",
    "\n",
    "# Drop rows with missing longitude or latitude values\n",
    "df_2021 = df_2021.dropna()\n",
    "#df_2021['q'] = (df_2021['Brutto'] / df_2021['AnzahlModule']) * 1000\n",
    "\n",
    "brutto_sum2021 = df_2021['Brutto'].sum()\n",
    "print(\"BruttoLeistung in 2021: \", brutto_sum2021)\n",
    "print(\"Average Q of total data in 2021: \", df_2021['Brutto'].mean())\n",
    "\n",
    "outliers_df2021 = df_2021[(df_2021['Brutto'] > 20000) | (df_2021['Brutto'] < 100)].copy()\n",
    "\n",
    "# Calculate the total sum for 'Bruttoleistung' and 'AnzahlModule'\n",
    "total_brutto_sum_outliers2021 = outliers_df2021['Brutto'].sum()\n",
    "#total_anzahlmodule_sum_outliers2021 = outliers_df2021['AnzahlModule'].sum()\n",
    "\n",
    "print(f'Total outliers_Brutto sum: {total_brutto_sum_outliers2021}')\n",
    "#print(f'Total AnzahlModule sum: {total_anzahlmodule_sum_outliers2021}')\n",
    "\n",
    "outliers_q2021 = outliers_df2021['Brutto'].mean()\n",
    "\n",
    "print(f'Outlier Brutto mean: {outliers_q2021}')\n",
    "\n",
    "error_rate2021 = total_brutto_sum_outliers2021/brutto_sum2021\n",
    "print(f'Error Rate in 2021: {error_rate2021*100}', \"%\")\n",
    "\n",
    "\n"
   ]
  },
  {
   "cell_type": "code",
   "execution_count": 27,
   "id": "18610420",
   "metadata": {},
   "outputs": [
    {
     "name": "stdout",
     "output_type": "stream",
     "text": [
      "Total withoutoutliers_Brutto sum: 1927076.0\n",
      "Filtered Q mean: 3981.561983471074\n",
      "Correct Data Entry in 2021: 99.97751398797314 %\n"
     ]
    }
   ],
   "source": [
    "#2021 without outliers\n",
    "\n",
    "without_df2021 = df_2021[(df_2021['Brutto'] < 20000) & (df_2021['Brutto'] > 100)].copy()\n",
    "#filtered_df = filtered_df[(filtered_df['Brutto'] < 2000) & (filtered_df['AnzahlModule'] < 500)] \n",
    "\n",
    "# Calculate the total sum for 'Bruttoleistung' and 'AnzahlModule'\n",
    "total_brutto_sum_withoutoutliers2021 = without_df2021['Brutto'].sum()\n",
    "#total_anzahlmodule_sum_withoutoutliers2021 = without_df2021['AnzahlModule'].sum()\n",
    "\n",
    "print(f'Total withoutoutliers_Brutto sum: {total_brutto_sum_withoutoutliers2021}')\n",
    "#print(f'Total withoutoutliers AnzahlModule sum: {total_anzahlmodule_sum_withoutoutliers2021}')\n",
    "\n",
    "outliers_q2021 = without_df2021['Brutto'].mean()\n",
    "\n",
    "print(f'Filtered Q mean: {outliers_q2021}')\n",
    "success_rate2021 = total_brutto_sum_withoutoutliers2021/brutto_sum2021\n",
    "print(f'Correct Data Entry in 2021: {success_rate2021*100}', \"%\")\n"
   ]
  },
  {
   "cell_type": "code",
   "execution_count": 33,
   "id": "9b9cdb31",
   "metadata": {},
   "outputs": [
    {
     "name": "stdout",
     "output_type": "stream",
     "text": [
      "BruttoLeistung in 2022:  2746670.6\n",
      "Average Q of total data in 2022:  4318.664465408805\n",
      "Total outliers_Brutto sum: 239.6\n",
      "Outlier Brutto mean: 5.097872340425532\n",
      "Error Rate in 2022: 0.008723288478785916 %\n"
     ]
    }
   ],
   "source": [
    "#2022 with outliers\n",
    "df_2022 = DataFrame(capacity3)\n",
    "\n",
    "df_2022.columns = ['Brutto']\n",
    "\n",
    "# Drop rows with missing longitude or latitude values\n",
    "df_2022 = df_2022.dropna()\n",
    "#df_2022['q'] = (df_2022['Brutto'] / df_2022['AnzahlModule']) * 1000\n",
    "\n",
    "brutto_sum2022 = df_2022['Brutto'].sum()\n",
    "print(\"BruttoLeistung in 2022: \", brutto_sum2022)\n",
    "print(\"Average Q of total data in 2022: \", df_2022['Brutto'].mean())\n",
    "\n",
    "outliers_df2022 = df_2022[(df_2022['Brutto'] > 20000) | (df_2022['Brutto'] < 100)].copy()\n",
    "\n",
    "# Calculate the total sum for 'Bruttoleistung' and 'AnzahlModule'\n",
    "total_brutto_sum_outliers2022 = outliers_df2022['Brutto'].sum()\n",
    "#total_anzahlmodule_sum_outliers2022 = outliers_df2022['AnzahlModule'].sum()\n",
    "\n",
    "print(f'Total outliers_Brutto sum: {total_brutto_sum_outliers2022}')\n",
    "#print(f'Total AnzahlModule sum: {total_anzahlmodule_sum_outliers2022}')\n",
    "\n",
    "outliers_q2022 = outliers_df2022['Brutto'].mean()\n",
    "\n",
    "print(f'Outlier Brutto mean: {outliers_q2022}')\n",
    "\n",
    "error_rate2022 = total_brutto_sum_outliers2022/brutto_sum2022\n",
    "print(f'Error Rate in 2022: {error_rate2022*100}', \"%\")\n",
    "\n"
   ]
  },
  {
   "cell_type": "code",
   "execution_count": 32,
   "id": "faf3058c",
   "metadata": {},
   "outputs": [
    {
     "name": "stdout",
     "output_type": "stream",
     "text": [
      "Total withoutoutliers_Brutto sum: 2746431.0\n",
      "Filtered Q mean: 4662.870967741936\n",
      "Correct Data Entry in 2022: 99.99127671152121 %\n"
     ]
    }
   ],
   "source": [
    "#2022 without outliers\n",
    "\n",
    "without_df2022 = df_2022[(df_2022['Brutto'] < 20000) & (df_2022['Brutto'] > 100)].copy()\n",
    "#filtered_df = filtered_df[(filtered_df['Brutto'] < 2000) & (filtered_df['AnzahlModule'] < 500)] \n",
    "\n",
    "# Calculate the total sum for 'Bruttoleistung' and 'AnzahlModule'\n",
    "total_brutto_sum_withoutoutliers2022 = without_df2022['Brutto'].sum()\n",
    "#total_anzahlmodule_sum_withoutoutliers2022 = without_df2022['AnzahlModule'].sum()\n",
    "\n",
    "print(f'Total withoutoutliers_Brutto sum: {total_brutto_sum_withoutoutliers2022}')\n",
    "#print(f'Total withoutoutliers AnzahlModule sum: {total_anzahlmodule_sum_withoutoutliers2022}')\n",
    "\n",
    "outliers_q2022 = without_df2022['Brutto'].mean()\n",
    "\n",
    "print(f'Filtered Q mean: {outliers_q2022}')\n",
    "success_rate2022 = total_brutto_sum_withoutoutliers2022/brutto_sum2022\n",
    "print(f'Correct Data Entry in 2022: {success_rate2022*100}', \"%\")\n"
   ]
  },
  {
   "cell_type": "code",
   "execution_count": 35,
   "id": "8848f4f5",
   "metadata": {},
   "outputs": [
    {
     "name": "stdout",
     "output_type": "stream",
     "text": [
      "BruttoLeistung in 2023:  3840485.57\n",
      "Average Q of total data in 2023:  4476.090407925408\n",
      "Total outliers_Brutto sum: 390.65\n",
      "Outlier Brutto mean: 4.822839506172839\n",
      "Error Rate in 2023: 0.010171890842438447 %\n"
     ]
    }
   ],
   "source": [
    "#2023 with outliers\n",
    "df_2023 = DataFrame(capacity4)\n",
    "\n",
    "df_2023.columns = ['Brutto']\n",
    "\n",
    "# Drop rows with missing longitude or latitude values\n",
    "df_2023 = df_2023.dropna()\n",
    "#df_2023['q'] = (df_2023['Brutto'] / df_2023['AnzahlModule']) * 1000\n",
    "\n",
    "brutto_sum2023 = df_2023['Brutto'].sum()\n",
    "print(\"BruttoLeistung in 2023: \", brutto_sum2023)\n",
    "print(\"Average Q of total data in 2023: \", df_2023['Brutto'].mean())\n",
    "\n",
    "outliers_df2023 = df_2023[(df_2023['Brutto'] > 20000) | (df_2023['Brutto'] < 100)].copy()\n",
    "\n",
    "# Calculate the total sum for 'Bruttoleistung' and 'AnzahlModule'\n",
    "total_brutto_sum_outliers2023 = outliers_df2023['Brutto'].sum()\n",
    "#total_anzahlmodule_sum_outliers2023 = outliers_df2023['AnzahlModule'].sum()\n",
    "\n",
    "print(f'Total outliers_Brutto sum: {total_brutto_sum_outliers2023}')\n",
    "#print(f'Total AnzahlModule sum: {total_anzahlmodule_sum_outliers2023}')\n",
    "\n",
    "outliers_q2023 = outliers_df2023['Brutto'].mean()\n",
    "\n",
    "print(f'Outlier Brutto mean: {outliers_q2023}')\n",
    "\n",
    "error_rate2023 = total_brutto_sum_outliers2023/brutto_sum2023\n",
    "print(f'Error Rate in 2023: {error_rate2023*100}', \"%\")\n"
   ]
  },
  {
   "cell_type": "code",
   "execution_count": 36,
   "id": "ed03c523",
   "metadata": {},
   "outputs": [
    {
     "name": "stdout",
     "output_type": "stream",
     "text": [
      "Total withoutoutliers_Brutto sum: 3840094.92\n",
      "Filtered Q mean: 4942.207104247104\n",
      "Correct Data Entry in 2023: 99.98982810915756 %\n"
     ]
    }
   ],
   "source": [
    "#2023 without outliers\n",
    "\n",
    "without_df2023 = df_2023[(df_2023['Brutto'] < 20000) & (df_2023['Brutto'] > 100)].copy()\n",
    "#filtered_df = filtered_df[(filtered_df['Brutto'] < 2000) & (filtered_df['AnzahlModule'] < 500)] \n",
    "\n",
    "# Calculate the total sum for 'Bruttoleistung' and 'AnzahlModule'\n",
    "total_brutto_sum_withoutoutliers2023 = without_df2023['Brutto'].sum()\n",
    "#total_anzahlmodule_sum_withoutoutliers2023 = without_df2023['AnzahlModule'].sum()\n",
    "\n",
    "print(f'Total withoutoutliers_Brutto sum: {total_brutto_sum_withoutoutliers2023}')\n",
    "#print(f'Total withoutoutliers AnzahlModule sum: {total_anzahlmodule_sum_withoutoutliers2023}')\n",
    "\n",
    "outliers_q2023 = without_df2023['Brutto'].mean()\n",
    "\n",
    "print(f'Filtered Q mean: {outliers_q2023}')\n",
    "success_rate2023 = total_brutto_sum_withoutoutliers2023/brutto_sum2023\n",
    "print(f'Correct Data Entry in 2023: {success_rate2023*100}', \"%\")\n"
   ]
  },
  {
   "cell_type": "code",
   "execution_count": 37,
   "id": "8aa5c6ac",
   "metadata": {},
   "outputs": [
    {
     "name": "stdout",
     "output_type": "stream",
     "text": [
      "BruttoLeistung in 2024:  442088.80000000005\n",
      "Average Q of total data in 2024:  4465.5434343434345\n",
      "Total outliers_Brutto sum: 48.800000000000004\n",
      "Outlier Brutto mean: 4.066666666666667\n",
      "Error Rate in 2024: 0.011038506291043792 %\n"
     ]
    }
   ],
   "source": [
    "#2024 with outliers\n",
    "df_2024 = DataFrame(capacity5)\n",
    "\n",
    "df_2024.columns = ['Brutto']\n",
    "\n",
    "# Drop rows with missing longitude or latitude values\n",
    "df_2024 = df_2024.dropna()\n",
    "#df_2024['q'] = (df_2024['Brutto'] / df_2024['AnzahlModule']) * 1000\n",
    "\n",
    "brutto_sum2024 = df_2024['Brutto'].sum()\n",
    "print(\"BruttoLeistung in 2024: \", brutto_sum2024)\n",
    "print(\"Average Q of total data in 2024: \", df_2024['Brutto'].mean())\n",
    "\n",
    "outliers_df2024 = df_2024[(df_2024['Brutto'] > 20000) | (df_2024['Brutto'] < 100)].copy()\n",
    "\n",
    "# Calculate the total sum for 'Bruttoleistung' and 'AnzahlModule'\n",
    "total_brutto_sum_outliers2024 = outliers_df2024['Brutto'].sum()\n",
    "#total_anzahlmodule_sum_outliers2024 = outliers_df2024['AnzahlModule'].sum()\n",
    "\n",
    "print(f'Total outliers_Brutto sum: {total_brutto_sum_outliers2024}')\n",
    "#print(f'Total AnzahlModule sum: {total_anzahlmodule_sum_outliers2024}')\n",
    "\n",
    "outliers_q2024 = outliers_df2024['Brutto'].mean()\n",
    "\n",
    "print(f'Outlier Brutto mean: {outliers_q2024}')\n",
    "\n",
    "error_rate2024 = total_brutto_sum_outliers2024/brutto_sum2024\n",
    "print(f'Error Rate in 2024: {error_rate2024*100}', \"%\")\n",
    "\n"
   ]
  },
  {
   "cell_type": "code",
   "execution_count": 39,
   "id": "27817ecf",
   "metadata": {},
   "outputs": [
    {
     "name": "stdout",
     "output_type": "stream",
     "text": [
      "Total withoutoutliers_Brutto sum: 442040.0\n",
      "Filtered Q mean: 5080.919540229885\n",
      "Correct Data Entry in 2024: 99.98896149370896 %\n"
     ]
    }
   ],
   "source": [
    "#2024 without outliers\n",
    "\n",
    "without_df2024 = df_2024[(df_2024['Brutto'] < 20000) & (df_2024['Brutto'] > 100)].copy()\n",
    "#filtered_df = filtered_df[(filtered_df['Brutto'] < 2000) & (filtered_df['AnzahlModule'] < 500)] \n",
    "\n",
    "# Calculate the total sum for 'Bruttoleistung' and 'AnzahlModule'\n",
    "total_brutto_sum_withoutoutliers2024 = without_df2024['Brutto'].sum()\n",
    "#total_anzahlmodule_sum_withoutoutliers2024 = without_df2024['AnzahlModule'].sum()\n",
    "\n",
    "print(f'Total withoutoutliers_Brutto sum: {total_brutto_sum_withoutoutliers2024}')\n",
    "#print(f'Total withoutoutliers AnzahlModule sum: {total_anzahlmodule_sum_withoutoutliers2024}')\n",
    "\n",
    "outliers_q2024 = without_df2024['Brutto'].mean()\n",
    "\n",
    "print(f'Filtered Q mean: {outliers_q2024}')\n",
    "success_rate2024 = total_brutto_sum_withoutoutliers2024/brutto_sum2024\n",
    "print(f'Correct Data Entry in 2024: {success_rate2024*100}', \"%\")\n"
   ]
  },
  {
   "cell_type": "code",
   "execution_count": null,
   "id": "998f5b85",
   "metadata": {},
   "outputs": [],
   "source": []
  }
 ],
 "metadata": {
  "kernelspec": {
   "display_name": "Python 3 (ipykernel)",
   "language": "python",
   "name": "python3"
  },
  "language_info": {
   "codemirror_mode": {
    "name": "ipython",
    "version": 3
   },
   "file_extension": ".py",
   "mimetype": "text/x-python",
   "name": "python",
   "nbconvert_exporter": "python",
   "pygments_lexer": "ipython3",
   "version": "3.11.5"
  }
 },
 "nbformat": 4,
 "nbformat_minor": 5
}
