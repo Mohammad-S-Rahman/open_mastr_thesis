{
 "cells": [
  {
   "cell_type": "code",
   "execution_count": 1,
   "id": "6ce967f1",
   "metadata": {},
   "outputs": [],
   "source": [
    "import psycopg2\n",
    "from pandas import DataFrame\n",
    "import json\n",
    "import seaborn as sns\n",
    "import matplotlib.pyplot as plt\n",
    "import numpy as np\n",
    "\n",
    "# Connect database with the set credentials in PG\n",
    "db_connection = psycopg2.connect(\n",
    "    user=\"tester\",\n",
    "    password=\"1234\",\n",
    "    host=\"localhost\",\n",
    "    port=\"5432\",\n",
    "    database=\"BulkTest\"\n",
    ")\n",
    "\n",
    "#updated query\n",
    "query0 = \"\"\"\n",
    "SELECT\n",
    "    SE.\"Bruttoleistung\", SE.\"AnzahlModule\"\n",
    "FROM\n",
    "    solar_extended as SE\n",
    "WHERE\n",
    "    SUBSTRING(CAST(SE.\"Inbetriebnahmedatum\" AS TEXT) FROM 1 FOR 4) = '2019';\n",
    "\"\"\"\n",
    "query1 = \"\"\"\n",
    "SELECT\n",
    "    SE.\"Bruttoleistung\", SE.\"AnzahlModule\"\n",
    "FROM\n",
    "    solar_extended as SE\n",
    "WHERE\n",
    "    SUBSTRING(CAST(SE.\"Inbetriebnahmedatum\" AS TEXT) FROM 1 FOR 4) = '2020';\n",
    "\"\"\"\n",
    "query2 = \"\"\"\n",
    "SELECT\n",
    "    SE.\"Bruttoleistung\", SE.\"AnzahlModule\"\n",
    "FROM\n",
    "    solar_extended as SE\n",
    "WHERE\n",
    "    SUBSTRING(CAST(SE.\"Inbetriebnahmedatum\" AS TEXT) FROM 1 FOR 4) = '2021';\n",
    "\"\"\"\n",
    "query3 = \"\"\"\n",
    "SELECT\n",
    "    SE.\"Bruttoleistung\", SE.\"AnzahlModule\"\n",
    "FROM \n",
    "    solar_extended as SE\n",
    "WHERE\n",
    "    SUBSTRING(CAST(SE.\"Inbetriebnahmedatum\" AS TEXT) FROM 1 FOR 4) = '2022';\n",
    "\"\"\"\n",
    "query4 = \"\"\"\n",
    "SELECT\n",
    "    SE.\"Bruttoleistung\", SE.\"AnzahlModule\"\n",
    "FROM\n",
    "    solar_extended as SE\n",
    "WHERE\n",
    "    SUBSTRING(CAST(SE.\"Inbetriebnahmedatum\" AS TEXT) FROM 1 FOR 4) = '2023';\n",
    "\"\"\"\n",
    "query5 = \"\"\"\n",
    "SELECT\n",
    "    SE.\"Bruttoleistung\", SE.\"AnzahlModule\"\n",
    "FROM\n",
    "    solar_extended as SE\n",
    "WHERE\n",
    "    SUBSTRING(CAST(SE.\"Inbetriebnahmedatum\" AS TEXT) FROM 1 FOR 4) = '2024';\n",
    "\"\"\"\n",
    "\n",
    "\n",
    "# Create a cursor and execute the query\n",
    "cursor0 = db_connection.cursor()\n",
    "cursor0.execute(query0)\n",
    "\n",
    "cursor1 = db_connection.cursor()\n",
    "cursor1.execute(query1)\n",
    "\n",
    "cursor2 = db_connection.cursor()\n",
    "cursor2.execute(query2)\n",
    "\n",
    "cursor3 = db_connection.cursor()\n",
    "cursor3.execute(query3)\n",
    "\n",
    "cursor4 = db_connection.cursor()\n",
    "cursor4.execute(query4)\n",
    "\n",
    "cursor5 = db_connection.cursor()\n",
    "cursor5.execute(query5)\n",
    "\n",
    "capacity0 = cursor0.fetchall()\n",
    "capacity1 = cursor1.fetchall()\n",
    "capacity2 = cursor2.fetchall()\n",
    "capacity3 = cursor3.fetchall()\n",
    "capacity4 = cursor4.fetchall()\n",
    "capacity5 = cursor5.fetchall()\n",
    "\n",
    "\n"
   ]
  },
  {
   "cell_type": "code",
   "execution_count": 2,
   "id": "7c89f597",
   "metadata": {
    "scrolled": true
   },
   "outputs": [
    {
     "name": "stdout",
     "output_type": "stream",
     "text": [
      "BruttoLeistung in 2019:  4000507.0710000005\n",
      "Average Q of total data in 2019:  321.52913418221925\n",
      "Total outliers_Brutto sum: 13515.532000000001\n",
      "Total AnzahlModule sum: 137478.0\n",
      "Outlier Q mean: 3439.832680001149\n",
      "Error Rate in 2019: 0.3378454720896555 %\n"
     ]
    }
   ],
   "source": [
    "#2019 with outliers\n",
    "df_2019 = DataFrame(capacity0)\n",
    "\n",
    "df_2019.columns = ['Brutto','AnzahlModule']\n",
    "\n",
    "# Drop rows with missing longitude or latitude values\n",
    "df_2019 = df_2019.dropna()\n",
    "df_2019['q'] = (df_2019['Brutto'] / df_2019['AnzahlModule']) * 1000\n",
    "\n",
    "brutto_sum2019 = df_2019['Brutto'].sum()\n",
    "print(\"BruttoLeistung in 2019: \", brutto_sum2019)\n",
    "print(\"Average Q of total data in 2019: \", df_2019['q'].mean())\n",
    "\n",
    "outliers_df2019 = df_2019[(df_2019['q'] > 800) | (df_2019['q'] < 100)].copy()\n",
    "\n",
    "# Calculate the total sum for 'Bruttoleistung' and 'AnzahlModule'\n",
    "total_brutto_sum_outliers2019 = outliers_df2019['Brutto'].sum()\n",
    "total_anzahlmodule_sum_outliers2019 = outliers_df2019['AnzahlModule'].sum()\n",
    "\n",
    "print(f'Total outliers_Brutto sum: {total_brutto_sum_outliers2019}')\n",
    "print(f'Total AnzahlModule sum: {total_anzahlmodule_sum_outliers2019}')\n",
    "\n",
    "outliers_q2019 = outliers_df2019['q'].mean()\n",
    "\n",
    "print(f'Outlier Q mean: {outliers_q2019}')\n",
    "\n",
    "error_rate2019 = total_brutto_sum_outliers2019/brutto_sum2019\n",
    "print(f'Error Rate in 2019: {error_rate2019*100}', \"%\")\n"
   ]
  },
  {
   "cell_type": "code",
   "execution_count": 3,
   "id": "843b4269",
   "metadata": {},
   "outputs": [
    {
     "name": "stdout",
     "output_type": "stream",
     "text": [
      "Total withoutoutliers_Brutto sum: 3986754.3389999997\n",
      "Total withoutoutliers AnzahlModule sum: 13297966.0\n",
      "Filtered Q mean: 306.1293323056201\n",
      "Correct Data Entry in 2019: 99.6562252795478 %\n"
     ]
    }
   ],
   "source": [
    "#2019 without outliers\n",
    "\n",
    "without_df2019 = df_2019[(df_2019['q'] < 800) & (df_2019['q'] > 100)].copy()\n",
    "#filtered_df = filtered_df[(filtered_df['Brutto'] < 2000) & (filtered_df['AnzahlModule'] < 500)] \n",
    "\n",
    "# Calculate the total sum for 'Bruttoleistung' and 'AnzahlModule'\n",
    "total_brutto_sum_withoutoutliers2019 = without_df2019['Brutto'].sum()\n",
    "total_anzahlmodule_sum_withoutoutliers2019 = without_df2019['AnzahlModule'].sum()\n",
    "\n",
    "print(f'Total withoutoutliers_Brutto sum: {total_brutto_sum_withoutoutliers2019}')\n",
    "print(f'Total withoutoutliers AnzahlModule sum: {total_anzahlmodule_sum_withoutoutliers2019}')\n",
    "\n",
    "outliers_q2019 = without_df2019['q'].mean()\n",
    "\n",
    "print(f'Filtered Q mean: {outliers_q2019}')\n",
    "success_rate2019 = total_brutto_sum_withoutoutliers2019/brutto_sum2019\n",
    "print(f'Correct Data Entry in 2019: {success_rate2019*100}', \"%\")"
   ]
  },
  {
   "cell_type": "code",
   "execution_count": 4,
   "id": "2d36887e",
   "metadata": {},
   "outputs": [
    {
     "name": "stdout",
     "output_type": "stream",
     "text": [
      "BruttoLeistung:  5144748.519\n",
      "Average Q:  335.0765789262609\n",
      "Total outliers_Brutto sum: 16324.955000000002\n",
      "Total AnzahlModule sum: 236287.0\n",
      "Outlier Q mean: 2562.665322396206\n",
      "Error Rate in 2020: 0.31731298312659084 %\n"
     ]
    }
   ],
   "source": [
    "#2020 with outliers\n",
    "\n",
    "df_2020 = DataFrame(capacity1)\n",
    "\n",
    "df_2020.columns = ['Brutto','AnzahlModule']\n",
    "\n",
    "# Drop rows with missing longitude or latitude values\n",
    "df_2020 = df_2020.dropna()\n",
    "df_2020['q'] = (df_2020['Brutto'] / df_2020['AnzahlModule']) * 1000\n",
    "\n",
    "brutto_sum2020 = df_2020['Brutto'].sum()\n",
    "print(\"BruttoLeistung: \", brutto_sum2020)\n",
    "print(\"Average Q: \", df_2020['q'].mean())\n",
    "\n",
    "outliers_df2020 = df_2020[(df_2020['q'] > 800) | (df_2020['q'] < 100)].copy()\n",
    "\n",
    "# Calculate the total sum for 'Bruttoleistung' and 'AnzahlModule'\n",
    "total_brutto_sum_outliers2020 = outliers_df2020['Brutto'].sum()\n",
    "total_anzahlmodule_sum_outliers2020 = outliers_df2020['AnzahlModule'].sum()\n",
    "\n",
    "print(f'Total outliers_Brutto sum: {total_brutto_sum_outliers2020}')\n",
    "print(f'Total AnzahlModule sum: {total_anzahlmodule_sum_outliers2020}')\n",
    "\n",
    "outliers_q2020 = outliers_df2020['q'].mean()\n",
    "\n",
    "print(f'Outlier Q mean: {outliers_q2020}')\n",
    "\n",
    "error_rate2020 = total_brutto_sum_outliers2020/brutto_sum2020\n",
    "print(f'Error Rate in 2020: {error_rate2020*100}', \"%\")\n"
   ]
  },
  {
   "cell_type": "code",
   "execution_count": 5,
   "id": "4831f221",
   "metadata": {},
   "outputs": [
    {
     "name": "stdout",
     "output_type": "stream",
     "text": [
      "Total withoutoutliers_Brutto sum: 5128077.964000001\n",
      "Total withoutoutliers AnzahlModule sum: 15529560.0\n",
      "Filtered Q mean: 325.83723736823225\n",
      "Correct Data Entry in 2020: 99.67596948736302 %\n"
     ]
    }
   ],
   "source": [
    "#2020 without outliers \n",
    "\n",
    "without_df2020 = df_2020[(df_2020['q'] < 800) & (df_2020['q'] > 100)].copy()\n",
    "#filtered_df = filtered_df[(filtered_df['Brutto'] < 2000) & (filtered_df['AnzahlModule'] < 500)] \n",
    "\n",
    "# Calculate the total sum for 'Bruttoleistung' and 'AnzahlModule'\n",
    "total_brutto_sum_withoutoutliers2020 = without_df2020['Brutto'].sum()\n",
    "total_anzahlmodule_sum_withoutoutliers2020 = without_df2020['AnzahlModule'].sum()\n",
    "\n",
    "print(f'Total withoutoutliers_Brutto sum: {total_brutto_sum_withoutoutliers2020}')\n",
    "print(f'Total withoutoutliers AnzahlModule sum: {total_anzahlmodule_sum_withoutoutliers2020}')\n",
    "\n",
    "outliers_q2020 = without_df2020['q'].mean()\n",
    "\n",
    "print(f'Filtered Q mean: {outliers_q2020}')\n",
    "success_rate2020 = total_brutto_sum_withoutoutliers2020/brutto_sum2020\n",
    "print(f'Correct Data Entry in 2020: {success_rate2020*100}', \"%\")"
   ]
  },
  {
   "cell_type": "code",
   "execution_count": 6,
   "id": "cf3c98eb",
   "metadata": {},
   "outputs": [
    {
     "name": "stdout",
     "output_type": "stream",
     "text": [
      "BruttoLeistung:  5700450.384999999\n",
      "Average Q of the whole data:  357.1733963543659\n",
      "Total outliers_Brutto sum: 20610.203999999998\n",
      "Total AnzahlModule sum: 441450.0\n",
      "Outlier Q mean: 1681.0369183922328\n",
      "Error Rate in 2021: 0.3615539581615006 %\n"
     ]
    }
   ],
   "source": [
    "df_2021 = DataFrame(capacity2)\n",
    "\n",
    "df_2021.columns = ['Brutto','AnzahlModule']\n",
    "\n",
    "# Drop rows with missing longitude or latitude values\n",
    "df_2021 = df_2021.dropna()\n",
    "df_2021['q'] = (df_2021['Brutto'] / df_2021['AnzahlModule']) * 1000\n",
    "\n",
    "brutto_sum2021 = df_2021['Brutto'].sum()\n",
    "print(\"BruttoLeistung: \", brutto_sum2021)\n",
    "print(\"Average Q of the whole data: \", df_2021['q'].mean())\n",
    "\n",
    "outliers_df2021 = df_2021[(df_2021['q'] > 800) | (df_2021['q'] < 100)].copy()\n",
    "\n",
    "# Calculate the total sum for 'Bruttoleistung' and 'AnzahlModule'\n",
    "total_brutto_sum_outliers2021 = outliers_df2021['Brutto'].sum()\n",
    "total_anzahlmodule_sum_outliers2021 = outliers_df2021['AnzahlModule'].sum()\n",
    "\n",
    "print(f'Total outliers_Brutto sum: {total_brutto_sum_outliers2021}')\n",
    "print(f'Total AnzahlModule sum: {total_anzahlmodule_sum_outliers2021}')\n",
    "\n",
    "outliers_q2021 = outliers_df2021['q'].mean()\n",
    "\n",
    "print(f'Outlier Q mean: {outliers_q2021}')\n",
    "\n",
    "error_rate2021 = total_brutto_sum_outliers2021/brutto_sum2021\n",
    "print(f'Error Rate in 2021: {error_rate2021*100}', \"%\")\n"
   ]
  },
  {
   "cell_type": "code",
   "execution_count": 7,
   "id": "18610420",
   "metadata": {},
   "outputs": [
    {
     "name": "stdout",
     "output_type": "stream",
     "text": [
      "Total withoutoutliers_Brutto sum: 5678849.580999998\n",
      "Total withoutoutliers AnzahlModule sum: 15528919.0\n",
      "Filtered Q mean: 351.65349671211703\n",
      "Correct Data Entry in 2021: 99.62106846755758 %\n"
     ]
    }
   ],
   "source": [
    "without_df2021 = df_2021[(df_2021['q'] < 800) & (df_2021['q'] > 100)].copy()\n",
    "#filtered_df = filtered_df[(filtered_df['Brutto'] < 2000) & (filtered_df['AnzahlModule'] < 500)] \n",
    "\n",
    "# Calculate the total sum for 'Bruttoleistung' and 'AnzahlModule'\n",
    "total_brutto_sum_withoutoutliers2021 = without_df2021['Brutto'].sum()\n",
    "total_anzahlmodule_sum_withoutoutliers2021 = without_df2021['AnzahlModule'].sum()\n",
    "\n",
    "print(f'Total withoutoutliers_Brutto sum: {total_brutto_sum_withoutoutliers2021}')\n",
    "print(f'Total withoutoutliers AnzahlModule sum: {total_anzahlmodule_sum_withoutoutliers2021}')\n",
    "\n",
    "outliers_q2021 = without_df2021['q'].mean()\n",
    "\n",
    "print(f'Filtered Q mean: {outliers_q2021}')\n",
    "success_rate2021 = total_brutto_sum_withoutoutliers2021/brutto_sum2021\n",
    "print(f'Correct Data Entry in 2021: {success_rate2021*100}', \"%\")"
   ]
  },
  {
   "cell_type": "code",
   "execution_count": 8,
   "id": "9b9cdb31",
   "metadata": {},
   "outputs": [
    {
     "name": "stdout",
     "output_type": "stream",
     "text": [
      "BruttoLeistung:  7444116.498000001\n",
      "Average Q:  379.44153944324705\n",
      "Total outliers_Brutto sum: 21180.189\n",
      "Total AnzahlModule sum: 412848.0\n",
      "Outlier Q mean: 2324.5535084535286\n",
      "Error Rate in 2022: 0.2845225354236523 %\n"
     ]
    }
   ],
   "source": [
    "#2022 with outliers\n",
    "\n",
    "df_2022 = DataFrame(capacity3)\n",
    "\n",
    "df_2022.columns = ['Brutto','AnzahlModule']\n",
    "\n",
    "# Drop rows with missing longitude or latitude values\n",
    "df_2022 = df_2022.dropna()\n",
    "df_2022['q'] = (df_2022['Brutto'] / df_2022['AnzahlModule']) * 1000\n",
    "\n",
    "brutto_sum2022 = df_2022['Brutto'].sum()\n",
    "print(\"BruttoLeistung: \", brutto_sum2022)\n",
    "print(\"Average Q: \", df_2022['q'].mean())\n",
    "\n",
    "outliers_df2022 = df_2022[(df_2022['q'] > 800) | (df_2022['q'] < 100)].copy()\n",
    "\n",
    "# Calculate the total sum for 'Bruttoleistung' and 'AnzahlModule'\n",
    "total_brutto_sum_outliers2022 = outliers_df2022['Brutto'].sum()\n",
    "total_anzahlmodule_sum_outliers2022 = outliers_df2022['AnzahlModule'].sum()\n",
    "\n",
    "print(f'Total outliers_Brutto sum: {total_brutto_sum_outliers2022}')\n",
    "print(f'Total AnzahlModule sum: {total_anzahlmodule_sum_outliers2022}')\n",
    "\n",
    "outliers_q2022 = outliers_df2022['q'].mean()\n",
    "\n",
    "print(f'Outlier Q mean: {outliers_q2022}')\n",
    "\n",
    "error_rate2022 = total_brutto_sum_outliers2022/brutto_sum2022\n",
    "print(f'Error Rate in 2022: {error_rate2022*100}', \"%\")"
   ]
  },
  {
   "cell_type": "code",
   "execution_count": 9,
   "id": "faf3058c",
   "metadata": {},
   "outputs": [
    {
     "name": "stdout",
     "output_type": "stream",
     "text": [
      "Total withoutoutliers_Brutto sum: 7422524.109000001\n",
      "Total withoutoutliers AnzahlModule sum: 18502235.0\n",
      "Filtered Q mean: 370.03457119787606\n",
      "Correct Data Entry in 2022: 99.70994020572086 %\n"
     ]
    }
   ],
   "source": [
    "#2022 without Outliers\n",
    "\n",
    "without_df2022 = df_2022[(df_2022['q'] < 800) & (df_2022['q'] > 100)].copy()\n",
    "#filtered_df = filtered_df[(filtered_df['Brutto'] < 2000) & (filtered_df['AnzahlModule'] < 500)] \n",
    "\n",
    "# Calculate the total sum for 'Bruttoleistung' and 'AnzahlModule'\n",
    "total_brutto_sum_withoutoutliers2022 = without_df2022['Brutto'].sum()\n",
    "total_anzahlmodule_sum_withoutoutliers2022 = without_df2022['AnzahlModule'].sum()\n",
    "\n",
    "print(f'Total withoutoutliers_Brutto sum: {total_brutto_sum_withoutoutliers2022}')\n",
    "print(f'Total withoutoutliers AnzahlModule sum: {total_anzahlmodule_sum_withoutoutliers2022}')\n",
    "\n",
    "outliers_q2022 = without_df2022['q'].mean()\n",
    "\n",
    "print(f'Filtered Q mean: {outliers_q2022}')\n",
    "success_rate2022 = total_brutto_sum_withoutoutliers2022/brutto_sum2022\n",
    "print(f'Correct Data Entry in 2022: {success_rate2022*100}', \"%\")"
   ]
  },
  {
   "cell_type": "code",
   "execution_count": 10,
   "id": "8848f4f5",
   "metadata": {},
   "outputs": [
    {
     "name": "stdout",
     "output_type": "stream",
     "text": [
      "BruttoLeistung:  14586072.443000004\n",
      "Average Q:  395.1027258516583\n",
      "Total outliers_Brutto sum: 72425.22899999999\n",
      "Total AnzahlModule sum: 3049516.0\n",
      "Outlier Q mean: 1505.1235359974796\n",
      "Error Rate in 2023: 0.49653687984223305 %\n"
     ]
    }
   ],
   "source": [
    "#2023 with outliers\n",
    "\n",
    "df_2023 = DataFrame(capacity4)\n",
    "\n",
    "df_2023.columns = ['Brutto','AnzahlModule']\n",
    "\n",
    "# Drop rows with missing longitude or latitude values\n",
    "df_2023 = df_2023.dropna()\n",
    "df_2023['q'] = (df_2023['Brutto'] / df_2023['AnzahlModule']) * 1000\n",
    "\n",
    "brutto_sum2023 = df_2023['Brutto'].sum()\n",
    "print(\"BruttoLeistung: \", brutto_sum2023)\n",
    "print(\"Average Q: \", df_2023['q'].mean())\n",
    "\n",
    "outliers_df2023 = df_2023[(df_2023['q'] > 800) | (df_2023['q'] < 100)].copy()\n",
    "\n",
    "# Calculate the total sum for 'Bruttoleistung' and 'AnzahlModule'\n",
    "total_brutto_sum_outliers2023 = outliers_df2023['Brutto'].sum()\n",
    "total_anzahlmodule_sum_outliers2023 = outliers_df2023['AnzahlModule'].sum()\n",
    "\n",
    "print(f'Total outliers_Brutto sum: {total_brutto_sum_outliers2023}')\n",
    "print(f'Total AnzahlModule sum: {total_anzahlmodule_sum_outliers2023}')\n",
    "\n",
    "outliers_q2023 = outliers_df2023['q'].mean()\n",
    "\n",
    "print(f'Outlier Q mean: {outliers_q2023}')\n",
    "\n",
    "error_rate2023 = total_brutto_sum_outliers2023/brutto_sum2023\n",
    "print(f'Error Rate in 2023: {error_rate2023*100}', \"%\")"
   ]
  },
  {
   "cell_type": "code",
   "execution_count": 11,
   "id": "ed03c523",
   "metadata": {},
   "outputs": [
    {
     "name": "stdout",
     "output_type": "stream",
     "text": [
      "Total withoutoutliers_Brutto sum: 14512221.314000003\n",
      "Total withoutoutliers AnzahlModule sum: 34251993.0\n",
      "Filtered Q mean: 390.4178554599836\n",
      "Correct Data Entry in 2023: 99.49368735628732 %\n"
     ]
    }
   ],
   "source": [
    "#without outliers 2023\n",
    "\n",
    "without_df2023 = df_2023[(df_2023['q'] < 800) & (df_2023['q'] > 100)].copy()\n",
    "#filtered_df = filtered_df[(filtered_df['Brutto'] < 2000) & (filtered_df['AnzahlModule'] < 500)] \n",
    "\n",
    "# Calculate the total sum for 'Bruttoleistung' and 'AnzahlModule'\n",
    "total_brutto_sum_withoutoutliers2023 = without_df2023['Brutto'].sum()\n",
    "total_anzahlmodule_sum_withoutoutliers2023 = without_df2023['AnzahlModule'].sum()\n",
    "\n",
    "print(f'Total withoutoutliers_Brutto sum: {total_brutto_sum_withoutoutliers2023}')\n",
    "print(f'Total withoutoutliers AnzahlModule sum: {total_anzahlmodule_sum_withoutoutliers2023}')\n",
    "\n",
    "outliers_q2023 = without_df2023['q'].mean()\n",
    "\n",
    "print(f'Filtered Q mean: {outliers_q2023}')\n",
    "success_rate2023 = total_brutto_sum_withoutoutliers2023/brutto_sum2023\n",
    "print(f'Correct Data Entry in 2023: {success_rate2023*100}', \"%\")"
   ]
  },
  {
   "cell_type": "code",
   "execution_count": 12,
   "id": "8aa5c6ac",
   "metadata": {},
   "outputs": [
    {
     "name": "stdout",
     "output_type": "stream",
     "text": [
      "BruttoLeistung:  2314133.0300000003\n",
      "Average Q:  413.9924359848668\n",
      "Total outliers_Brutto sum: 9857.867999999999\n",
      "Total AnzahlModule sum: 552215.0\n",
      "Outlier Q mean: 2505.220733853374\n",
      "Error Rate in 2024: 0.4259853635121399 %\n"
     ]
    }
   ],
   "source": [
    "#2024 with outliers\n",
    "\n",
    "df_2024 = DataFrame(capacity5)\n",
    "\n",
    "df_2024.columns = ['Brutto','AnzahlModule']\n",
    "\n",
    "# Drop rows with missing longitude or latitude values\n",
    "df_2024 = df_2024.dropna()\n",
    "df_2024['q'] = (df_2024['Brutto'] / df_2024['AnzahlModule']) * 1000\n",
    "\n",
    "brutto_sum2024 = df_2024['Brutto'].sum()\n",
    "print(\"BruttoLeistung: \", brutto_sum2024)\n",
    "print(\"Average Q: \", df_2024['q'].mean())\n",
    "\n",
    "outliers_df2024 = df_2024[(df_2024['q'] > 800) | (df_2024['q'] < 100)].copy()\n",
    "\n",
    "# Calculate the total sum for 'Bruttoleistung' and 'AnzahlModule'\n",
    "total_brutto_sum_outliers2024 = outliers_df2024['Brutto'].sum()\n",
    "total_anzahlmodule_sum_outliers2024 = outliers_df2024['AnzahlModule'].sum()\n",
    "\n",
    "print(f'Total outliers_Brutto sum: {total_brutto_sum_outliers2024}')\n",
    "print(f'Total AnzahlModule sum: {total_anzahlmodule_sum_outliers2024}')\n",
    "\n",
    "outliers_q2024 = outliers_df2024['q'].mean()\n",
    "\n",
    "print(f'Outlier Q mean: {outliers_q2024}')\n",
    "\n",
    "error_rate2024 = total_brutto_sum_outliers2024/brutto_sum2024\n",
    "print(f'Error Rate in 2024: {error_rate2024*100}', \"%\")"
   ]
  },
  {
   "cell_type": "code",
   "execution_count": 13,
   "id": "27817ecf",
   "metadata": {},
   "outputs": [
    {
     "name": "stdout",
     "output_type": "stream",
     "text": [
      "Total withoutoutliers_Brutto sum: 2304139.662\n",
      "Total withoutoutliers AnzahlModule sum: 5123498.0\n",
      "Filtered Q mean: 403.2655954229027\n",
      "Correct Data Entry in 2024: 99.56815931191302 %\n"
     ]
    }
   ],
   "source": [
    "\n",
    "#without outliers 2024\n",
    "\n",
    "without_df2024 = df_2024[(df_2024['q'] < 800) & (df_2024['q'] > 100)].copy()\n",
    "#filtered_df = filtered_df[(filtered_df['Brutto'] < 2000) & (filtered_df['AnzahlModule'] < 500)] \n",
    "\n",
    "# Calculate the total sum for 'Bruttoleistung' and 'AnzahlModule'\n",
    "total_brutto_sum_withoutoutliers2024 = without_df2024['Brutto'].sum()\n",
    "total_anzahlmodule_sum_withoutoutliers2024 = without_df2024['AnzahlModule'].sum()\n",
    "\n",
    "print(f'Total withoutoutliers_Brutto sum: {total_brutto_sum_withoutoutliers2024}')\n",
    "print(f'Total withoutoutliers AnzahlModule sum: {total_anzahlmodule_sum_withoutoutliers2024}')\n",
    "\n",
    "outliers_q2024 = without_df2024['q'].mean()\n",
    "\n",
    "print(f'Filtered Q mean: {outliers_q2024}')\n",
    "success_rate2024 = total_brutto_sum_withoutoutliers2024/brutto_sum2024\n",
    "print(f'Correct Data Entry in 2024: {success_rate2024*100}', \"%\")"
   ]
  },
  {
   "cell_type": "code",
   "execution_count": null,
   "id": "998f5b85",
   "metadata": {},
   "outputs": [],
   "source": []
  }
 ],
 "metadata": {
  "kernelspec": {
   "display_name": "Python 3 (ipykernel)",
   "language": "python",
   "name": "python3"
  },
  "language_info": {
   "codemirror_mode": {
    "name": "ipython",
    "version": 3
   },
   "file_extension": ".py",
   "mimetype": "text/x-python",
   "name": "python",
   "nbconvert_exporter": "python",
   "pygments_lexer": "ipython3",
   "version": "3.11.5"
  }
 },
 "nbformat": 4,
 "nbformat_minor": 5
}
